{
  "cells": [
    {
      "cell_type": "code",
      "execution_count": null,
      "metadata": {
        "id": "cNRKt9ek1Zgl"
      },
      "outputs": [],
      "source": [
        "!pip install langchain unstructured openai chromadb Cython tiktoken pypdf"
      ]
    },
    {
      "cell_type": "code",
      "execution_count": null,
      "metadata": {
        "id": "8SdURgbcfA-t"
      },
      "outputs": [],
      "source": [
        "!pip install sentence-transformers"
      ]
    },
    {
      "cell_type": "code",
      "execution_count": null,
      "metadata": {
        "id": "0B0_ppjcfIdp"
      },
      "outputs": [],
      "source": [
        "import os\n",
        "from langchain.text_splitter import RecursiveCharacterTextSplitter\n",
        "from langchain.vectorstores import Chroma\n",
        "from langchain.embeddings import SentenceTransformerEmbeddings\n",
        "from langchain.document_loaders import PyPDFLoader # PDF\n",
        "from langchain.document_loaders import PyPDFDirectoryLoader\n",
        "from langchain.document_loaders import TextLoader # 텍스트\n",
        "from langchain.document_loaders import DirectoryLoader # 디렉토리\n",
        "\n",
        "from langchain.embeddings import OpenAIEmbeddings\n",
        "from langchain.vectorstores import Chroma #Vectorstore중 Chroma\n",
        "\n",
        "from langchain.embeddings import HuggingFaceEmbeddings # HuggingFace 사용"
      ]
    },
    {
      "cell_type": "code",
      "execution_count": null,
      "metadata": {
        "id": "llJmkKM0fkFg"
      },
      "outputs": [],
      "source": [
        "# embeddings = HuggingFaceEmbeddings()\n",
        "\n",
        "instructor_embeddings = HuggingFaceEmbeddings(model_name=\"intfloat/multilingual-e5-large\")"
      ]
    },
    {
      "cell_type": "code",
      "execution_count": null,
      "metadata": {
        "id": "vzSliH1Pf1ex"
      },
      "outputs": [],
      "source": [
        "#구글드라이브 마운트하기\n",
        "from google.colab import drive\n",
        "drive.mount('/content/drive')"
      ]
    },
    {
      "cell_type": "code",
      "execution_count": null,
      "metadata": {
        "id": "wO7Gd62mgAqv"
      },
      "outputs": [],
      "source": [
        "# 업로드하고 실행해야함\n",
        "fn_dir = \"/content/drive/My Drive/Colab Notebooks/data/pdf_text_c\" # PDF 파일"
      ]
    },
    {
      "cell_type": "code",
      "execution_count": null,
      "metadata": {
        "id": "t5jj2KFrgCYE"
      },
      "outputs": [],
      "source": [
        "loader = PyPDFDirectoryLoader(fn_dir)\n",
        "documents = loader.load()\n",
        "\n",
        "text_splitter = RecursiveCharacterTextSplitter(chunk_size=500, chunk_overlap=50) # Chunk 1000 단위(토큰)로 텍스트 자름 ## 자를 때 overlap\n",
        "docs = text_splitter.split_documents(documents)\n",
        "\n",
        "len(documents), len(docs)"
      ]
    },
    {
      "cell_type": "code",
      "execution_count": null,
      "metadata": {
        "id": "XWUbP6Zwg_eR"
      },
      "outputs": [],
      "source": [
        "db = Chroma.from_documents(docs, embedding=instructor_embeddings,\n",
        "                                 persist_directory=\".\")\n",
        "db.persist()"
      ]
    },
    {
      "cell_type": "code",
      "execution_count": null,
      "metadata": {
        "id": "wYNBM98shIdo"
      },
      "outputs": [],
      "source": [
        "query = \"인공지능은 어떻게 발전해왔는가?\"\n",
        "doc = db.similarity_search(query)"
      ]
    },
    {
      "cell_type": "code",
      "execution_count": null,
      "metadata": {
        "id": "Ul6m8BhBhIxd"
      },
      "outputs": [],
      "source": [
        "doc[:5]"
      ]
    }
  ],
  "metadata": {
    "colab": {
      "provenance": []
    },
    "kernelspec": {
      "display_name": "Python 3",
      "name": "python3"
    },
    "language_info": {
      "name": "python"
    }
  },
  "nbformat": 4,
  "nbformat_minor": 0
}